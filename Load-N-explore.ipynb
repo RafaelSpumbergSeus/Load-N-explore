{
  "cells": [
    {
      "cell_type": "markdown",
      "metadata": {
        "id": "view-in-github",
        "colab_type": "text"
      },
      "source": [
        "<a href=\"https://colab.research.google.com/github/RafaelSpumbergSeus/Load-N-explore/blob/main/Load-N-explore.ipynb\" target=\"_parent\"><img src=\"https://colab.research.google.com/assets/colab-badge.svg\" alt=\"Open In Colab\"/></a>"
      ]
    },
    {
      "cell_type": "code",
      "execution_count": 3,
      "id": "56603577-87fa-42aa-b718-b00d6fdc2867",
      "metadata": {
        "id": "56603577-87fa-42aa-b718-b00d6fdc2867"
      },
      "outputs": [],
      "source": [
        "import numpy as np\n",
        "import matplotlib.pyplot as plt\n",
        "import seaborn as sns\n",
        "import warnings\n",
        "import pandas as pd\n",
        "import requests"
      ]
    },
    {
      "cell_type": "code",
      "source": [
        "url1 = \"https://raw.githubusercontent.com/RafaelSpumbergSeus/Load-N-explore/main/accounts_anonymized.json\"\n",
        "url2 = \"https://raw.githubusercontent.com/RafaelSpumbergSeus/Load-N-explore/main/support_cases_anonymized.json\"\n",
        "\n",
        "response1 = requests.get(url1)\n",
        "response2 = requests.get(url2)\n",
        "\n",
        "if response1.status_code == 200 and response2.status_code == 200:\n",
        "    # Ler os arquivos JSON como texto\n",
        "    data1 = response1.json()\n",
        "    data2 = response2.json()\n",
        "\n",
        "    # Normalizar os dados, se necessário\n",
        "    df1 = pd.json_normalize(data1)\n",
        "    df2 = pd.json_normalize(data2)\n",
        "\n",
        "    # Exibir as primeiras linhas dos DataFrames\n",
        "    print(\"DataFrame 1:\")\n",
        "    print(df1.head())\n",
        "    print(\"DataFrame 2:\")\n",
        "    print(df2.head())\n",
        "\n",
        "    # Salvar os DataFrames como arquivos CSV\n",
        "    df1.to_csv(\"accounts_anonymized.csv\", index=False)\n",
        "    df2.to_csv(\"support_cases_anonymized.csv\", index=False)\n",
        "\n",
        "    print(\"Arquivos CSV salvos com sucesso!\")\n",
        "\n",
        "else:\n",
        "    print(\"Erro ao baixar os arquivos. Verifique as URLs!\")"
      ],
      "metadata": {
        "id": "YU3Ld8Hd8WYd",
        "outputId": "9d3e5807-fb5e-42d4-8da4-cbccb12214b3",
        "colab": {
          "base_uri": "https://localhost:8080/"
        }
      },
      "id": "YU3Ld8Hd8WYd",
      "execution_count": 4,
      "outputs": [
        {
          "output_type": "stream",
          "name": "stdout",
          "text": [
            "DataFrame 1:\n",
            "                                        account_sfid       account_name  \\\n",
            "0  28cb93e07db33a85d12c75825a11ab6a97c5a0df9750f6...  Customer_b9c711e0   \n",
            "1  17779701277914218bcfcd9211c3fb6673758ca2f6e014...  Customer_b3e69ecd   \n",
            "2  777c8f6154d9e1c1563ce0a62dbd8392ef3204cec6ecd1...  Customer_3b6e1b44   \n",
            "3  e7b6a33c931f01e1e2d42b47318945216da6fef294a738...  Customer_58de6751   \n",
            "4  fbcec0b147243cfce96df94fe543968c04cfc0a4a29fd7...  Customer_97f3101d   \n",
            "\n",
            "  account_created_date account_country               account_industry  \n",
            "0  2017-12-18 15:53:15        Pakistan                       Printing  \n",
            "1  2010-01-11 17:41:46  United Kingdom  Household & Personal Products  \n",
            "2  2020-10-19 17:12:22           China       Packaging and Containers  \n",
            "3  2019-03-20 12:56:09     South Korea                Pharmaceuticals  \n",
            "4  2021-03-24 14:06:24          Poland                       Printing  \n",
            "DataFrame 2:\n",
            "                                           case_sfid  \\\n",
            "0  c9f05bc582a8abec4c5f1a9385c24a96d86d3f3093c557...   \n",
            "1  a8f7c39a437d713e800599205d6cd9319733fd5df18af8...   \n",
            "2  654dd0c826e0842cdd030e935aa1e886787cb990b693c2...   \n",
            "3  57422ac55031dd6c7acf36a2bc6d74e01e0c0194c61318...   \n",
            "4  b88c12d55a7c468c96e48a7693e306e24f44947f5f1e3f...   \n",
            "\n",
            "                                        account_sfid  case_number  \\\n",
            "0  58912bf7e5131400adbc1c1521158b7b8cc2f2f3fbd51f...        69908   \n",
            "1  3675a0565672bccecbba8a8a102b0482f3c82e6f07443e...        69887   \n",
            "2  58912bf7e5131400adbc1c1521158b7b8cc2f2f3fbd51f...        69910   \n",
            "3  908d42c9a4e3f4beae8bf394dd2ed82090a219cdf64518...        69905   \n",
            "4                                               None        69891   \n",
            "\n",
            "  case_contact_name       case_product case_status case_resolution  \\\n",
            "0  Contact_e2737240  Verify Enterprise      Closed            Done   \n",
            "1  Contact_20439d47      GVD Perpetual      Closed            Done   \n",
            "2  Contact_edf7784e  Verify Enterprise      Closed            Done   \n",
            "3  Contact_6f59abbf             Verify      Closed            Done   \n",
            "4  Contact_f02dfb7d              Other         New       Undefined   \n",
            "\n",
            "  case_details case_closure case_priority case_severity case_reason  \\\n",
            "0        Trial    Undefined        Normal        Medium       Other   \n",
            "1        Trial    Undefined        Normal           Low       Other   \n",
            "2        Trial    Undefined        Normal           Low       Other   \n",
            "3         Full    Undefined        Normal        Medium       Other   \n",
            "4    Undefined    Undefined        Normal     Undefined       Other   \n",
            "\n",
            "            case_type case_category case_created_date case_closed_date  \n",
            "0  License Activation     Licensing        2025-01-09       2025-01-09  \n",
            "1  License Activation     Licensing        2025-01-09       2025-01-09  \n",
            "2  License Activation     Licensing        2025-01-09       2025-01-09  \n",
            "3  License Activation     Licensing        2025-01-09       2025-01-09  \n",
            "4           Undefined     Undefined        2025-01-09             None  \n",
            "Arquivos CSV salvos com sucesso!\n"
          ]
        }
      ]
    }
  ],
  "metadata": {
    "kernelspec": {
      "display_name": "Python 3 (ipykernel)",
      "language": "python",
      "name": "python3"
    },
    "language_info": {
      "codemirror_mode": {
        "name": "ipython",
        "version": 3
      },
      "file_extension": ".py",
      "mimetype": "text/x-python",
      "name": "python",
      "nbconvert_exporter": "python",
      "pygments_lexer": "ipython3",
      "version": "3.12.5"
    },
    "colab": {
      "provenance": [],
      "include_colab_link": true
    }
  },
  "nbformat": 4,
  "nbformat_minor": 5
}