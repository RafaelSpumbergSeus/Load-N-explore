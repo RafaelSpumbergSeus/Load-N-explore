{
  "cells": [
    {
      "cell_type": "markdown",
      "metadata": {
        "id": "view-in-github",
        "colab_type": "text"
      },
      "source": [
        "<a href=\"https://colab.research.google.com/github/RafaelSpumbergSeus/Load-N-explore/blob/main/Load-N-explore.ipynb\" target=\"_parent\"><img src=\"https://colab.research.google.com/assets/colab-badge.svg\" alt=\"Open In Colab\"/></a>"
      ]
    },
    {
      "cell_type": "code",
      "execution_count": 2,
      "id": "56603577-87fa-42aa-b718-b00d6fdc2867",
      "metadata": {
        "id": "56603577-87fa-42aa-b718-b00d6fdc2867"
      },
      "outputs": [],
      "source": [
        "import numpy as np\n",
        "import matplotlib.pyplot as plt\n",
        "import seaborn as sns\n",
        "import warnings\n",
        "import pandas as pd\n",
        "import requests"
      ]
    },
    {
      "cell_type": "code",
      "source": [
        "url1 = \"https://raw.githubusercontent.com/RafaelSpumbergSeus/Load-N-explore/main/accounts_anonymized.json\"\n",
        "url2 = \"https://raw.githubusercontent.com/RafaelSpumbergSeus/Load-N-explore/main/support_cases_anonymized.json\"\n",
        "\n",
        "response1 = requests.get(url1)\n",
        "response2 = requests.get(url2)\n",
        "\n",
        "if response1.status_code == 200 and response2.status_code == 200:\n",
        "    # Ler os arquivos JSON como texto\n",
        "    data1 = response1.json()\n",
        "    data2 = response2.json()\n",
        "\n",
        "    # Normalizar os dados, se necessário\n",
        "    df1 = pd.json_normalize(data1)\n",
        "    df2 = pd.json_normalize(data2)\n",
        "\n",
        "    # Exibir as primeiras linhas dos DataFrames\n",
        "    print(\"DataFrame 1:\")\n",
        "    print(df1.head())\n",
        "    print(\"DataFrame 2:\")\n",
        "    print(df2.head())\n",
        "\n",
        "    # Salvar os DataFrames como arquivos CSV\n",
        "    df1.to_csv(\"accounts_anonymized.csv\", index=False)\n",
        "    df2.to_csv(\"support_cases_anonymized.csv\", index=False)\n",
        "\n",
        "    print(\"Arquivos CSV salvos com sucesso!\")"
      ],
      "metadata": {
        "id": "YU3Ld8Hd8WYd",
        "outputId": "780cd53b-9758-40a3-be5b-811d201eec06",
        "colab": {
          "base_uri": "https://localhost:8080/"
        }
      },
      "id": "YU3Ld8Hd8WYd",
      "execution_count": 3,
      "outputs": [
        {
          "output_type": "stream",
          "name": "stdout",
          "text": [
            "DataFrame 1:\n",
            "                                        account_sfid       account_name  \\\n",
            "0  28cb93e07db33a85d12c75825a11ab6a97c5a0df9750f6...  Customer_b9c711e0   \n",
            "1  17779701277914218bcfcd9211c3fb6673758ca2f6e014...  Customer_b3e69ecd   \n",
            "2  777c8f6154d9e1c1563ce0a62dbd8392ef3204cec6ecd1...  Customer_3b6e1b44   \n",
            "3  e7b6a33c931f01e1e2d42b47318945216da6fef294a738...  Customer_58de6751   \n",
            "4  fbcec0b147243cfce96df94fe543968c04cfc0a4a29fd7...  Customer_97f3101d   \n",
            "\n",
            "  account_created_date account_country               account_industry  \n",
            "0  2017-12-18 15:53:15        Pakistan                       Printing  \n",
            "1  2010-01-11 17:41:46  United Kingdom  Household & Personal Products  \n",
            "2  2020-10-19 17:12:22           China       Packaging and Containers  \n",
            "3  2019-03-20 12:56:09     South Korea                Pharmaceuticals  \n",
            "4  2021-03-24 14:06:24          Poland                       Printing  \n",
            "DataFrame 2:\n",
            "                                           case_sfid  \\\n",
            "0  c9f05bc582a8abec4c5f1a9385c24a96d86d3f3093c557...   \n",
            "1  a8f7c39a437d713e800599205d6cd9319733fd5df18af8...   \n",
            "2  654dd0c826e0842cdd030e935aa1e886787cb990b693c2...   \n",
            "3  57422ac55031dd6c7acf36a2bc6d74e01e0c0194c61318...   \n",
            "4  b88c12d55a7c468c96e48a7693e306e24f44947f5f1e3f...   \n",
            "\n",
            "                                        account_sfid  case_number  \\\n",
            "0  58912bf7e5131400adbc1c1521158b7b8cc2f2f3fbd51f...        69908   \n",
            "1  3675a0565672bccecbba8a8a102b0482f3c82e6f07443e...        69887   \n",
            "2  58912bf7e5131400adbc1c1521158b7b8cc2f2f3fbd51f...        69910   \n",
            "3  908d42c9a4e3f4beae8bf394dd2ed82090a219cdf64518...        69905   \n",
            "4                                               None        69891   \n",
            "\n",
            "  case_contact_name       case_product case_status case_resolution  \\\n",
            "0  Contact_e2737240  Verify Enterprise      Closed            Done   \n",
            "1  Contact_20439d47      GVD Perpetual      Closed            Done   \n",
            "2  Contact_edf7784e  Verify Enterprise      Closed            Done   \n",
            "3  Contact_6f59abbf             Verify      Closed            Done   \n",
            "4  Contact_f02dfb7d              Other         New       Undefined   \n",
            "\n",
            "  case_details case_closure case_priority case_severity case_reason  \\\n",
            "0        Trial    Undefined        Normal        Medium       Other   \n",
            "1        Trial    Undefined        Normal           Low       Other   \n",
            "2        Trial    Undefined        Normal           Low       Other   \n",
            "3         Full    Undefined        Normal        Medium       Other   \n",
            "4    Undefined    Undefined        Normal     Undefined       Other   \n",
            "\n",
            "            case_type case_category case_created_date case_closed_date  \n",
            "0  License Activation     Licensing        2025-01-09       2025-01-09  \n",
            "1  License Activation     Licensing        2025-01-09       2025-01-09  \n",
            "2  License Activation     Licensing        2025-01-09       2025-01-09  \n",
            "3  License Activation     Licensing        2025-01-09       2025-01-09  \n",
            "4           Undefined     Undefined        2025-01-09             None  \n",
            "Arquivos CSV salvos com sucesso!\n"
          ]
        }
      ]
    },
    {
      "cell_type": "code",
      "source": [
        "print(df1.info())\n",
        "print(df2.info())"
      ],
      "metadata": {
        "id": "bGzgqsUvEFAH",
        "outputId": "76020dc5-ae16-43f3-cfe0-c30e983744d7",
        "colab": {
          "base_uri": "https://localhost:8080/"
        }
      },
      "id": "bGzgqsUvEFAH",
      "execution_count": 4,
      "outputs": [
        {
          "output_type": "stream",
          "name": "stdout",
          "text": [
            "<class 'pandas.core.frame.DataFrame'>\n",
            "RangeIndex: 1415 entries, 0 to 1414\n",
            "Data columns (total 5 columns):\n",
            " #   Column                Non-Null Count  Dtype \n",
            "---  ------                --------------  ----- \n",
            " 0   account_sfid          1415 non-null   object\n",
            " 1   account_name          1415 non-null   object\n",
            " 2   account_created_date  1415 non-null   object\n",
            " 3   account_country       1408 non-null   object\n",
            " 4   account_industry      1402 non-null   object\n",
            "dtypes: object(5)\n",
            "memory usage: 55.4+ KB\n",
            "None\n",
            "<class 'pandas.core.frame.DataFrame'>\n",
            "RangeIndex: 10000 entries, 0 to 9999\n",
            "Data columns (total 16 columns):\n",
            " #   Column             Non-Null Count  Dtype \n",
            "---  ------             --------------  ----- \n",
            " 0   case_sfid          10000 non-null  object\n",
            " 1   account_sfid       8407 non-null   object\n",
            " 2   case_number        10000 non-null  int64 \n",
            " 3   case_contact_name  10000 non-null  object\n",
            " 4   case_product       10000 non-null  object\n",
            " 5   case_status        10000 non-null  object\n",
            " 6   case_resolution    10000 non-null  object\n",
            " 7   case_details       10000 non-null  object\n",
            " 8   case_closure       10000 non-null  object\n",
            " 9   case_priority      10000 non-null  object\n",
            " 10  case_severity      10000 non-null  object\n",
            " 11  case_reason        10000 non-null  object\n",
            " 12  case_type          10000 non-null  object\n",
            " 13  case_category      10000 non-null  object\n",
            " 14  case_created_date  10000 non-null  object\n",
            " 15  case_closed_date   9058 non-null   object\n",
            "dtypes: int64(1), object(15)\n",
            "memory usage: 1.2+ MB\n",
            "None\n"
          ]
        }
      ]
    },
    {
      "cell_type": "code",
      "source": [
        "print(df1.describe())\n",
        "print(df2.describe())"
      ],
      "metadata": {
        "id": "Qf8ctAQZGqf8",
        "outputId": "cae3ce6b-3e0a-4a6e-d799-463b5e1dc092",
        "colab": {
          "base_uri": "https://localhost:8080/"
        }
      },
      "id": "Qf8ctAQZGqf8",
      "execution_count": 5,
      "outputs": [
        {
          "output_type": "stream",
          "name": "stdout",
          "text": [
            "                                             account_sfid       account_name  \\\n",
            "count                                                1415               1415   \n",
            "unique                                               1415               1414   \n",
            "top     28cb93e07db33a85d12c75825a11ab6a97c5a0df9750f6...  Customer_71f8fa02   \n",
            "freq                                                    1                  2   \n",
            "\n",
            "       account_created_date account_country account_industry  \n",
            "count                  1415            1408             1402  \n",
            "unique                 1358              72               22  \n",
            "top     2022-12-16 19:55:40   United States  Pharmaceuticals  \n",
            "freq                      6             553              421  \n",
            "        case_number\n",
            "count  10000.000000\n",
            "mean   64884.845700\n",
            "std     2914.373454\n",
            "min    59745.000000\n",
            "25%    62388.750000\n",
            "50%    64890.500000\n",
            "75%    67406.250000\n",
            "max    69911.000000\n"
          ]
        }
      ]
    },
    {
      "cell_type": "code",
      "source": [
        "print(df1.isnull().sum())\n",
        "print(df2.isnull().sum())"
      ],
      "metadata": {
        "id": "kj7vs1emGuNM",
        "outputId": "fb3fcb2a-5a2d-44b2-cb5f-d3f48c4cb0f7",
        "colab": {
          "base_uri": "https://localhost:8080/"
        }
      },
      "id": "kj7vs1emGuNM",
      "execution_count": 6,
      "outputs": [
        {
          "output_type": "stream",
          "name": "stdout",
          "text": [
            "account_sfid             0\n",
            "account_name             0\n",
            "account_created_date     0\n",
            "account_country          7\n",
            "account_industry        13\n",
            "dtype: int64\n",
            "case_sfid               0\n",
            "account_sfid         1593\n",
            "case_number             0\n",
            "case_contact_name       0\n",
            "case_product            0\n",
            "case_status             0\n",
            "case_resolution         0\n",
            "case_details            0\n",
            "case_closure            0\n",
            "case_priority           0\n",
            "case_severity           0\n",
            "case_reason             0\n",
            "case_type               0\n",
            "case_category           0\n",
            "case_created_date       0\n",
            "case_closed_date      942\n",
            "dtype: int64\n"
          ]
        }
      ]
    },
    {
      "cell_type": "code",
      "source": [
        "print(df1.duplicated().sum())\n",
        "print(df2.duplicated().sum())"
      ],
      "metadata": {
        "id": "fBXHE1JlG8kU",
        "outputId": "493c47b2-f20d-42a3-d33c-e71c4f1dfda3",
        "colab": {
          "base_uri": "https://localhost:8080/"
        }
      },
      "id": "fBXHE1JlG8kU",
      "execution_count": 9,
      "outputs": [
        {
          "output_type": "stream",
          "name": "stdout",
          "text": [
            "0\n",
            "0\n"
          ]
        }
      ]
    },
    {
      "cell_type": "markdown",
      "source": [
        "Não tem valores duplicados.\n",
        "\n",
        "\n"
      ],
      "metadata": {
        "id": "kxAS_hhwHDEM"
      },
      "id": "kxAS_hhwHDEM"
    },
    {
      "cell_type": "code",
      "source": [],
      "metadata": {
        "id": "sbqSuWbXHIZL"
      },
      "id": "sbqSuWbXHIZL",
      "execution_count": null,
      "outputs": []
    }
  ],
  "metadata": {
    "kernelspec": {
      "display_name": "Python 3 (ipykernel)",
      "language": "python",
      "name": "python3"
    },
    "language_info": {
      "codemirror_mode": {
        "name": "ipython",
        "version": 3
      },
      "file_extension": ".py",
      "mimetype": "text/x-python",
      "name": "python",
      "nbconvert_exporter": "python",
      "pygments_lexer": "ipython3",
      "version": "3.12.5"
    },
    "colab": {
      "provenance": [],
      "include_colab_link": true
    }
  },
  "nbformat": 4,
  "nbformat_minor": 5
}