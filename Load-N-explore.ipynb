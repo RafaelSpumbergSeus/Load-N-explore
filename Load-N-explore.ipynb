{
  "cells": [
    {
      "cell_type": "markdown",
      "metadata": {
        "id": "view-in-github",
        "colab_type": "text"
      },
      "source": [
        "<a href=\"https://colab.research.google.com/github/RafaelSpumbergSeus/Load-N-explore/blob/main/Load-N-explore.ipynb\" target=\"_parent\"><img src=\"https://colab.research.google.com/assets/colab-badge.svg\" alt=\"Open In Colab\"/></a>"
      ]
    },
    {
      "cell_type": "code",
      "execution_count": 12,
      "id": "56603577-87fa-42aa-b718-b00d6fdc2867",
      "metadata": {
        "id": "56603577-87fa-42aa-b718-b00d6fdc2867"
      },
      "outputs": [],
      "source": [
        "import numpy as np\n",
        "import matplotlib.pyplot as plt\n",
        "import seaborn as sns\n",
        "import warnings\n",
        "import pandas as pd"
      ]
    },
    {
      "cell_type": "code",
      "source": [
        "url1 = \"https://raw.githubusercontent.com/RafaelSpumbergSeus/Load-N-explore/main/accounts_anonymized.json\"\n",
        "\n",
        "#Carregar os JSONs\n",
        "df1 = pd.read_json(url1)\n",
        "\n",
        "#Exibir as primeiras linhas\n",
        "print(df1.head())"
      ],
      "metadata": {
        "id": "F3NQ6dhnNARB",
        "outputId": "c549a718-a3f9-41fa-8f76-3620fc3ca936",
        "colab": {
          "base_uri": "https://localhost:8080/"
        }
      },
      "id": "F3NQ6dhnNARB",
      "execution_count": 13,
      "outputs": [
        {
          "output_type": "stream",
          "name": "stdout",
          "text": [
            "                                        account_sfid       account_name  \\\n",
            "0  28cb93e07db33a85d12c75825a11ab6a97c5a0df9750f6...  Customer_b9c711e0   \n",
            "1  17779701277914218bcfcd9211c3fb6673758ca2f6e014...  Customer_b3e69ecd   \n",
            "2  777c8f6154d9e1c1563ce0a62dbd8392ef3204cec6ecd1...  Customer_3b6e1b44   \n",
            "3  e7b6a33c931f01e1e2d42b47318945216da6fef294a738...  Customer_58de6751   \n",
            "4  fbcec0b147243cfce96df94fe543968c04cfc0a4a29fd7...  Customer_97f3101d   \n",
            "\n",
            "  account_created_date account_country               account_industry  \n",
            "0  2017-12-18 15:53:15        Pakistan                       Printing  \n",
            "1  2010-01-11 17:41:46  United Kingdom  Household & Personal Products  \n",
            "2  2020-10-19 17:12:22           China       Packaging and Containers  \n",
            "3  2019-03-20 12:56:09     South Korea                Pharmaceuticals  \n",
            "4  2021-03-24 14:06:24          Poland                       Printing  \n"
          ]
        }
      ]
    },
    {
      "cell_type": "code",
      "source": [
        "url2 = \"https://raw.githubusercontent.com/RafaelSpumbergSeus/Load-N-explore/main/support_cases_anonymized.json\"\n",
        "\n",
        "#Carregar os JSONs\n",
        "df2 = pd.read_json(url2)\n",
        "\n",
        "#Exibir as primeiras linhas\n",
        "print(df2.head())"
      ],
      "metadata": {
        "id": "7Y5T7t3eSuov",
        "outputId": "8cb2e56d-3d82-4529-c777-9f15d699676d",
        "colab": {
          "base_uri": "https://localhost:8080/"
        }
      },
      "id": "7Y5T7t3eSuov",
      "execution_count": 14,
      "outputs": [
        {
          "output_type": "stream",
          "name": "stdout",
          "text": [
            "                                           case_sfid  \\\n",
            "0  c9f05bc582a8abec4c5f1a9385c24a96d86d3f3093c557...   \n",
            "1  a8f7c39a437d713e800599205d6cd9319733fd5df18af8...   \n",
            "2  654dd0c826e0842cdd030e935aa1e886787cb990b693c2...   \n",
            "3  57422ac55031dd6c7acf36a2bc6d74e01e0c0194c61318...   \n",
            "4  b88c12d55a7c468c96e48a7693e306e24f44947f5f1e3f...   \n",
            "\n",
            "                                        account_sfid  case_number  \\\n",
            "0  58912bf7e5131400adbc1c1521158b7b8cc2f2f3fbd51f...        69908   \n",
            "1  3675a0565672bccecbba8a8a102b0482f3c82e6f07443e...        69887   \n",
            "2  58912bf7e5131400adbc1c1521158b7b8cc2f2f3fbd51f...        69910   \n",
            "3  908d42c9a4e3f4beae8bf394dd2ed82090a219cdf64518...        69905   \n",
            "4                                               None        69891   \n",
            "\n",
            "  case_contact_name       case_product case_status case_resolution  \\\n",
            "0  Contact_e2737240  Verify Enterprise      Closed            Done   \n",
            "1  Contact_20439d47      GVD Perpetual      Closed            Done   \n",
            "2  Contact_edf7784e  Verify Enterprise      Closed            Done   \n",
            "3  Contact_6f59abbf             Verify      Closed            Done   \n",
            "4  Contact_f02dfb7d              Other         New       Undefined   \n",
            "\n",
            "  case_details case_closure case_priority case_severity case_reason  \\\n",
            "0        Trial    Undefined        Normal        Medium       Other   \n",
            "1        Trial    Undefined        Normal           Low       Other   \n",
            "2        Trial    Undefined        Normal           Low       Other   \n",
            "3         Full    Undefined        Normal        Medium       Other   \n",
            "4    Undefined    Undefined        Normal     Undefined       Other   \n",
            "\n",
            "            case_type case_category case_created_date case_closed_date  \n",
            "0  License Activation     Licensing        2025-01-09       2025-01-09  \n",
            "1  License Activation     Licensing        2025-01-09       2025-01-09  \n",
            "2  License Activation     Licensing        2025-01-09       2025-01-09  \n",
            "3  License Activation     Licensing        2025-01-09       2025-01-09  \n",
            "4           Undefined     Undefined        2025-01-09             None  \n"
          ]
        }
      ]
    },
    {
      "cell_type": "code",
      "source": [
        "df1_raw = pd.read_json(url1)\n",
        "df2_raw = pd.read_json(url2)\n",
        "\n",
        "df1 = pd.json_normalize(df1_raw)\n",
        "df2 = pd.json_normalize(df2_raw)\n",
        "\n",
        "df_combined = pd.merge(df1, df2, on='account_id', how='inner')\n",
        "\n",
        "print(df_combined.head())"
      ],
      "metadata": {
        "id": "9aH-UuW0WWA-",
        "outputId": "e6d2d5da-2471-4ed8-bf32-3bf047924508",
        "colab": {
          "base_uri": "https://localhost:8080/",
          "height": 356
        }
      },
      "id": "9aH-UuW0WWA-",
      "execution_count": 16,
      "outputs": [
        {
          "output_type": "error",
          "ename": "KeyError",
          "evalue": "'account_id'",
          "traceback": [
            "\u001b[0;31m---------------------------------------------------------------------------\u001b[0m",
            "\u001b[0;31mKeyError\u001b[0m                                  Traceback (most recent call last)",
            "\u001b[0;32m<ipython-input-16-73f21cdb0286>\u001b[0m in \u001b[0;36m<cell line: 0>\u001b[0;34m()\u001b[0m\n\u001b[1;32m      5\u001b[0m \u001b[0mdf2\u001b[0m \u001b[0;34m=\u001b[0m \u001b[0mpd\u001b[0m\u001b[0;34m.\u001b[0m\u001b[0mjson_normalize\u001b[0m\u001b[0;34m(\u001b[0m\u001b[0mdf2_raw\u001b[0m\u001b[0;34m)\u001b[0m\u001b[0;34m\u001b[0m\u001b[0;34m\u001b[0m\u001b[0m\n\u001b[1;32m      6\u001b[0m \u001b[0;34m\u001b[0m\u001b[0m\n\u001b[0;32m----> 7\u001b[0;31m \u001b[0mdf_combined\u001b[0m \u001b[0;34m=\u001b[0m \u001b[0mpd\u001b[0m\u001b[0;34m.\u001b[0m\u001b[0mmerge\u001b[0m\u001b[0;34m(\u001b[0m\u001b[0mdf1\u001b[0m\u001b[0;34m,\u001b[0m \u001b[0mdf2\u001b[0m\u001b[0;34m,\u001b[0m \u001b[0mon\u001b[0m\u001b[0;34m=\u001b[0m\u001b[0;34m'account_id'\u001b[0m\u001b[0;34m,\u001b[0m \u001b[0mhow\u001b[0m\u001b[0;34m=\u001b[0m\u001b[0;34m'inner'\u001b[0m\u001b[0;34m)\u001b[0m\u001b[0;34m\u001b[0m\u001b[0;34m\u001b[0m\u001b[0m\n\u001b[0m\u001b[1;32m      8\u001b[0m \u001b[0;34m\u001b[0m\u001b[0m\n\u001b[1;32m      9\u001b[0m \u001b[0mprint\u001b[0m\u001b[0;34m(\u001b[0m\u001b[0mdf_combined\u001b[0m\u001b[0;34m.\u001b[0m\u001b[0mhead\u001b[0m\u001b[0;34m(\u001b[0m\u001b[0;34m)\u001b[0m\u001b[0;34m)\u001b[0m\u001b[0;34m\u001b[0m\u001b[0;34m\u001b[0m\u001b[0m\n",
            "\u001b[0;32m/usr/local/lib/python3.11/dist-packages/pandas/core/reshape/merge.py\u001b[0m in \u001b[0;36mmerge\u001b[0;34m(left, right, how, on, left_on, right_on, left_index, right_index, sort, suffixes, copy, indicator, validate)\u001b[0m\n\u001b[1;32m    168\u001b[0m         )\n\u001b[1;32m    169\u001b[0m     \u001b[0;32melse\u001b[0m\u001b[0;34m:\u001b[0m\u001b[0;34m\u001b[0m\u001b[0;34m\u001b[0m\u001b[0m\n\u001b[0;32m--> 170\u001b[0;31m         op = _MergeOperation(\n\u001b[0m\u001b[1;32m    171\u001b[0m             \u001b[0mleft_df\u001b[0m\u001b[0;34m,\u001b[0m\u001b[0;34m\u001b[0m\u001b[0;34m\u001b[0m\u001b[0m\n\u001b[1;32m    172\u001b[0m             \u001b[0mright_df\u001b[0m\u001b[0;34m,\u001b[0m\u001b[0;34m\u001b[0m\u001b[0;34m\u001b[0m\u001b[0m\n",
            "\u001b[0;32m/usr/local/lib/python3.11/dist-packages/pandas/core/reshape/merge.py\u001b[0m in \u001b[0;36m__init__\u001b[0;34m(self, left, right, how, on, left_on, right_on, left_index, right_index, sort, suffixes, indicator, validate)\u001b[0m\n\u001b[1;32m    792\u001b[0m             \u001b[0mleft_drop\u001b[0m\u001b[0;34m,\u001b[0m\u001b[0;34m\u001b[0m\u001b[0;34m\u001b[0m\u001b[0m\n\u001b[1;32m    793\u001b[0m             \u001b[0mright_drop\u001b[0m\u001b[0;34m,\u001b[0m\u001b[0;34m\u001b[0m\u001b[0;34m\u001b[0m\u001b[0m\n\u001b[0;32m--> 794\u001b[0;31m         ) = self._get_merge_keys()\n\u001b[0m\u001b[1;32m    795\u001b[0m \u001b[0;34m\u001b[0m\u001b[0m\n\u001b[1;32m    796\u001b[0m         \u001b[0;32mif\u001b[0m \u001b[0mleft_drop\u001b[0m\u001b[0;34m:\u001b[0m\u001b[0;34m\u001b[0m\u001b[0;34m\u001b[0m\u001b[0m\n",
            "\u001b[0;32m/usr/local/lib/python3.11/dist-packages/pandas/core/reshape/merge.py\u001b[0m in \u001b[0;36m_get_merge_keys\u001b[0;34m(self)\u001b[0m\n\u001b[1;32m   1295\u001b[0m                         \u001b[0mrk\u001b[0m \u001b[0;34m=\u001b[0m \u001b[0mcast\u001b[0m\u001b[0;34m(\u001b[0m\u001b[0mHashable\u001b[0m\u001b[0;34m,\u001b[0m \u001b[0mrk\u001b[0m\u001b[0;34m)\u001b[0m\u001b[0;34m\u001b[0m\u001b[0;34m\u001b[0m\u001b[0m\n\u001b[1;32m   1296\u001b[0m                         \u001b[0;32mif\u001b[0m \u001b[0mrk\u001b[0m \u001b[0;32mis\u001b[0m \u001b[0;32mnot\u001b[0m \u001b[0;32mNone\u001b[0m\u001b[0;34m:\u001b[0m\u001b[0;34m\u001b[0m\u001b[0;34m\u001b[0m\u001b[0m\n\u001b[0;32m-> 1297\u001b[0;31m                             \u001b[0mright_keys\u001b[0m\u001b[0;34m.\u001b[0m\u001b[0mappend\u001b[0m\u001b[0;34m(\u001b[0m\u001b[0mright\u001b[0m\u001b[0;34m.\u001b[0m\u001b[0m_get_label_or_level_values\u001b[0m\u001b[0;34m(\u001b[0m\u001b[0mrk\u001b[0m\u001b[0;34m)\u001b[0m\u001b[0;34m)\u001b[0m\u001b[0;34m\u001b[0m\u001b[0;34m\u001b[0m\u001b[0m\n\u001b[0m\u001b[1;32m   1298\u001b[0m                         \u001b[0;32melse\u001b[0m\u001b[0;34m:\u001b[0m\u001b[0;34m\u001b[0m\u001b[0;34m\u001b[0m\u001b[0m\n\u001b[1;32m   1299\u001b[0m                             \u001b[0;31m# work-around for merge_asof(right_index=True)\u001b[0m\u001b[0;34m\u001b[0m\u001b[0;34m\u001b[0m\u001b[0m\n",
            "\u001b[0;32m/usr/local/lib/python3.11/dist-packages/pandas/core/generic.py\u001b[0m in \u001b[0;36m_get_label_or_level_values\u001b[0;34m(self, key, axis)\u001b[0m\n\u001b[1;32m   1909\u001b[0m             \u001b[0mvalues\u001b[0m \u001b[0;34m=\u001b[0m \u001b[0mself\u001b[0m\u001b[0;34m.\u001b[0m\u001b[0maxes\u001b[0m\u001b[0;34m[\u001b[0m\u001b[0maxis\u001b[0m\u001b[0;34m]\u001b[0m\u001b[0;34m.\u001b[0m\u001b[0mget_level_values\u001b[0m\u001b[0;34m(\u001b[0m\u001b[0mkey\u001b[0m\u001b[0;34m)\u001b[0m\u001b[0;34m.\u001b[0m\u001b[0m_values\u001b[0m\u001b[0;34m\u001b[0m\u001b[0;34m\u001b[0m\u001b[0m\n\u001b[1;32m   1910\u001b[0m         \u001b[0;32melse\u001b[0m\u001b[0;34m:\u001b[0m\u001b[0;34m\u001b[0m\u001b[0;34m\u001b[0m\u001b[0m\n\u001b[0;32m-> 1911\u001b[0;31m             \u001b[0;32mraise\u001b[0m \u001b[0mKeyError\u001b[0m\u001b[0;34m(\u001b[0m\u001b[0mkey\u001b[0m\u001b[0;34m)\u001b[0m\u001b[0;34m\u001b[0m\u001b[0;34m\u001b[0m\u001b[0m\n\u001b[0m\u001b[1;32m   1912\u001b[0m \u001b[0;34m\u001b[0m\u001b[0m\n\u001b[1;32m   1913\u001b[0m         \u001b[0;31m# Check for duplicates\u001b[0m\u001b[0;34m\u001b[0m\u001b[0;34m\u001b[0m\u001b[0m\n",
            "\u001b[0;31mKeyError\u001b[0m: 'account_id'"
          ]
        }
      ]
    }
  ],
  "metadata": {
    "kernelspec": {
      "display_name": "Python 3 (ipykernel)",
      "language": "python",
      "name": "python3"
    },
    "language_info": {
      "codemirror_mode": {
        "name": "ipython",
        "version": 3
      },
      "file_extension": ".py",
      "mimetype": "text/x-python",
      "name": "python",
      "nbconvert_exporter": "python",
      "pygments_lexer": "ipython3",
      "version": "3.12.5"
    },
    "colab": {
      "provenance": [],
      "include_colab_link": true
    }
  },
  "nbformat": 4,
  "nbformat_minor": 5
}